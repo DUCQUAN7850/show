{
 "cells": [
  {
   "cell_type": "code",
   "execution_count": 22,
   "metadata": {},
   "outputs": [
    {
     "name": "stderr",
     "output_type": "stream",
     "text": [
      "C:\\Users\\Admin\\Anaconda3\\lib\\site-packages\\gensim\\utils.py:1212: UserWarning: detected Windows; aliasing chunkize to chunkize_serial\n",
      "  warnings.warn(\"detected Windows; aliasing chunkize to chunkize_serial\")\n"
     ]
    }
   ],
   "source": [
    "import pandas as pd\n",
    "from sklearn.feature_extraction.text import TfidfVectorizer\n",
    "from nltk import word_tokenize\n",
    "from nltk.stem.porter import PorterStemmer\n",
    "from pyvi import ViTokenizer, ViPosTagger\n",
    "import gensim"
   ]
  },
  {
   "cell_type": "code",
   "execution_count": 11,
   "metadata": {},
   "outputs": [],
   "source": [
    "import hashlib\n",
    "import csv\n",
    "import datetime\n",
    "from datetime import datetime, timedelta\n",
    "\n",
    "start_date=datetime.strptime('2018-12-01', \"%Y-%m-%d\")  \n",
    "end_date=datetime.strptime('2019-02-27', \"%Y-%m-%d\") \n",
    "#đọc dữ liệu\n",
    "data=[]\n",
    "while start_date < end_date:\n",
    "    with open(str(start_date)[:10]+'.csv', 'r',encoding=\"utf8\") as csvFile:\n",
    "        reader = csv.reader(csvFile)\n",
    "        i=0\n",
    "        for row in reader:\n",
    "            if i!=0:\n",
    "                data.append(row)\n",
    "            i=i+1\n",
    "    start_date += timedelta(days=1)\n"
   ]
  },
  {
   "cell_type": "code",
   "execution_count": 12,
   "metadata": {},
   "outputs": [],
   "source": [
    "#lọc các data có đủ 10 phần tử\n",
    "buf=[]\n",
    "for i in data:\n",
    "\tif len(i) ==18:\n",
    "\t\tbuf.append(i)\n",
    "data=buf"
   ]
  },
  {
   "cell_type": "code",
   "execution_count": 14,
   "metadata": {},
   "outputs": [],
   "source": [
    "for i in range(len(data)):\n",
    "\tday=datetime.strptime(data[i][0], '%Y-%M-%d').strftime('%A')\n",
    "\tif day == 'Monday':\n",
    "\t\tdata[i][0]=1\n",
    "\telif day == 'Tuesday':\n",
    "\t\tdata[i][0]=2\n",
    "\telif day == 'Wednesday':\n",
    "\t\tdata[i][0]=3\n",
    "\telif day == 'Thursday':\n",
    "\t\tdata[i][0]=4\n",
    "\telif day == 'Friday':\n",
    "\t\tdata[i][0]=5\n",
    "\telif day == 'Saturday':\n",
    "\t\tdata[i][0]=6\n",
    "\telse:\n",
    "\t\tdata[i][0]=7\n",
    "\tdata[i][1]=int(data[i][1])\n",
    "\tdata[i][2]=int(data[i][2])\n",
    "\tdata[i][3]=int(data[i][3])\n",
    "\tdata[i][4]=float(data[i][4])\n",
    "\ta=int(hashlib.sha256(data[i][5].encode('utf-8')).hexdigest(), 16) % 10**8\n",
    "\tdata[i][5]=a\n",
    "\ta=int(hashlib.sha256(data[i][6].encode('utf-8')).hexdigest(), 16) % 10**8\n",
    "\tdata[i][6]=a\n",
    "\ta=int(hashlib.sha256(data[i][8].encode('utf-8')).hexdigest(), 16) % 10**8\n",
    "\tdata[i][8]=a\n",
    "\tdata[i][9]=int(data[i][9])\n",
    "\ta=int(hashlib.sha256(data[i][10].encode('utf-8')).hexdigest(), 16) % 10**8\n",
    "\tdata[i][10]=a\n",
    "\ta=int(hashlib.sha256(data[i][12].encode('utf-8')).hexdigest(), 16) % 10**8\n",
    "\tdata[i][12]=a\n",
    "\ta=int(hashlib.sha256(data[i][13].encode('utf-8')).hexdigest(), 16) % 10**8\n",
    "\tdata[i][13]=a\n",
    "\ta=int(hashlib.sha256(data[i][14].encode('utf-8')).hexdigest(), 16) % 10**8\n",
    "\tdata[i][14]=a\n",
    "\tdata[i][15]=int(data[i][15])\n",
    "\ta=int(hashlib.sha256(data[i][16].encode('utf-8')).hexdigest(), 16) % 10**8\n",
    "\tdata[i][16]=a"
   ]
  },
  {
   "cell_type": "code",
   "execution_count": 16,
   "metadata": {},
   "outputs": [],
   "source": [
    "buf1=[]\n",
    "for i in range(len(data)):\n",
    "    buf1.append(data[i])"
   ]
  },
  {
   "cell_type": "code",
   "execution_count": 17,
   "metadata": {},
   "outputs": [],
   "source": [
    "#lọc các content khác rỗng\n",
    "buf=[]\n",
    "for i in buf1:\n",
    "    if i[7]!=\"\":\n",
    "        buf.append(i)"
   ]
  },
  {
   "cell_type": "code",
   "execution_count": 18,
   "metadata": {},
   "outputs": [],
   "source": [
    "def preprocessing_doc(doc):\n",
    "    lines = gensim.utils.simple_preprocess(doc)\n",
    "    lines = ' '.join(lines)\n",
    "    lines = ViTokenizer.tokenize(lines)\n",
    "    return lines"
   ]
  },
  {
   "cell_type": "code",
   "execution_count": 19,
   "metadata": {},
   "outputs": [],
   "source": [
    "def tokenize(text):\n",
    "    tokens = word_tokenize(text)\n",
    "    stems = []\n",
    "    for item in tokens: stems.append(PorterStemmer().stem(item))\n",
    "    return stems"
   ]
  },
  {
   "cell_type": "code",
   "execution_count": 20,
   "metadata": {},
   "outputs": [],
   "source": [
    "def get_top(text):\n",
    "    text = [preprocessing_doc(text)]\n",
    "    if text == [\"\"]:\n",
    "        return text\n",
    "    else:\n",
    "        text = [\" \".join(tokenize(txt)) for txt in text]\n",
    "    vectorizer = TfidfVectorizer()\n",
    "    matrix = vectorizer.fit_transform(text).todense()\n",
    "    matrix = pd.DataFrame(matrix, columns=vectorizer.get_feature_names())\n",
    "    top_words = matrix.sum(axis=0).sort_values(ascending=False)\n",
    "    a=top_words.keys()\n",
    "    return a"
   ]
  },
  {
   "cell_type": "code",
   "execution_count": 23,
   "metadata": {
    "scrolled": true
   },
   "outputs": [],
   "source": [
    "for i in range(0,len(buf)):\n",
    "    a=get_top(str(buf[i][7]))\n",
    "    buf[i][7]=a"
   ]
  },
  {
   "cell_type": "code",
   "execution_count": 24,
   "metadata": {},
   "outputs": [],
   "source": [
    "dem=[]\n",
    "for i in buf:\n",
    "    dem.append(i)"
   ]
  },
  {
   "cell_type": "code",
   "execution_count": 25,
   "metadata": {},
   "outputs": [],
   "source": [
    "for i in range(len(dem)):\n",
    "    dem[i][4]=int(dem[i][4]*10000)"
   ]
  },
  {
   "cell_type": "code",
   "execution_count": 26,
   "metadata": {},
   "outputs": [],
   "source": [
    "for i in range(len(dem)):\n",
    "    dem[i][7]=list(dem[i][7])"
   ]
  },
  {
   "cell_type": "code",
   "execution_count": 67,
   "metadata": {},
   "outputs": [],
   "source": [
    "for i in range(len(dem)):\n",
    "    dem[i][11]=dem[i][11].split(\",\")"
   ]
  },
  {
   "cell_type": "code",
   "execution_count": 69,
   "metadata": {},
   "outputs": [
    {
     "data": {
      "text/html": [
       "<div>\n",
       "<style scoped>\n",
       "    .dataframe tbody tr th:only-of-type {\n",
       "        vertical-align: middle;\n",
       "    }\n",
       "\n",
       "    .dataframe tbody tr th {\n",
       "        vertical-align: top;\n",
       "    }\n",
       "\n",
       "    .dataframe thead th {\n",
       "        text-align: right;\n",
       "    }\n",
       "</style>\n",
       "<table border=\"1\" class=\"dataframe\">\n",
       "  <thead>\n",
       "    <tr style=\"text-align: right;\">\n",
       "      <th></th>\n",
       "      <th>date</th>\n",
       "      <th>bannerid</th>\n",
       "      <th>zoneid</th>\n",
       "      <th>campaignid</th>\n",
       "      <th>ctr</th>\n",
       "      <th>zone_name_ssp</th>\n",
       "      <th>banname</th>\n",
       "      <th>bandesc_adx</th>\n",
       "      <th>url</th>\n",
       "      <th>ban_width</th>\n",
       "      <th>ban_height</th>\n",
       "      <th>pcat_id</th>\n",
       "      <th>label_name</th>\n",
       "      <th>label_branch</th>\n",
       "      <th>zone_name_adx</th>\n",
       "      <th>zone_width</th>\n",
       "      <th>zone_height</th>\n",
       "      <th>ssp_zoneid</th>\n",
       "    </tr>\n",
       "  </thead>\n",
       "  <tbody>\n",
       "    <tr>\n",
       "      <th>0</th>\n",
       "      <td>1</td>\n",
       "      <td>67946</td>\n",
       "      <td>476740</td>\n",
       "      <td>21482</td>\n",
       "      <td>43</td>\n",
       "      <td>9589435</td>\n",
       "      <td>76280938</td>\n",
       "      <td>[đau, tim, thắt, suy, phòng, ngực, nguy_cơ, giảm]</td>\n",
       "      <td>89274557</td>\n",
       "      <td>300</td>\n",
       "      <td>99955337</td>\n",
       "      <td>[63]</td>\n",
       "      <td>94605910</td>\n",
       "      <td>65086549</td>\n",
       "      <td>9589435</td>\n",
       "      <td>300</td>\n",
       "      <td>30285947</td>\n",
       "      <td></td>\n",
       "    </tr>\n",
       "    <tr>\n",
       "      <th>1</th>\n",
       "      <td>1</td>\n",
       "      <td>67946</td>\n",
       "      <td>477394</td>\n",
       "      <td>21482</td>\n",
       "      <td>79</td>\n",
       "      <td>53959596</td>\n",
       "      <td>76280938</td>\n",
       "      <td>[đau, tim, thắt, suy, phòng, ngực, nguy_cơ, giảm]</td>\n",
       "      <td>89274557</td>\n",
       "      <td>300</td>\n",
       "      <td>99955337</td>\n",
       "      <td>[63]</td>\n",
       "      <td>94605910</td>\n",
       "      <td>65086549</td>\n",
       "      <td>53959596</td>\n",
       "      <td>300</td>\n",
       "      <td>30285947</td>\n",
       "      <td></td>\n",
       "    </tr>\n",
       "    <tr>\n",
       "      <th>2</th>\n",
       "      <td>1</td>\n",
       "      <td>67946</td>\n",
       "      <td>477468</td>\n",
       "      <td>21482</td>\n",
       "      <td>34</td>\n",
       "      <td>26889411</td>\n",
       "      <td>76280938</td>\n",
       "      <td>[đau, tim, thắt, suy, phòng, ngực, nguy_cơ, giảm]</td>\n",
       "      <td>89274557</td>\n",
       "      <td>300</td>\n",
       "      <td>99955337</td>\n",
       "      <td>[63]</td>\n",
       "      <td>94605910</td>\n",
       "      <td>65086549</td>\n",
       "      <td>26889411</td>\n",
       "      <td>300</td>\n",
       "      <td>30285947</td>\n",
       "      <td></td>\n",
       "    </tr>\n",
       "    <tr>\n",
       "      <th>3</th>\n",
       "      <td>1</td>\n",
       "      <td>67946</td>\n",
       "      <td>477498</td>\n",
       "      <td>21482</td>\n",
       "      <td>87</td>\n",
       "      <td>75832232</td>\n",
       "      <td>76280938</td>\n",
       "      <td>[đau, tim, thắt, suy, phòng, ngực, nguy_cơ, giảm]</td>\n",
       "      <td>89274557</td>\n",
       "      <td>300</td>\n",
       "      <td>99955337</td>\n",
       "      <td>[63]</td>\n",
       "      <td>94605910</td>\n",
       "      <td>65086549</td>\n",
       "      <td>75832232</td>\n",
       "      <td>300</td>\n",
       "      <td>30285947</td>\n",
       "      <td></td>\n",
       "    </tr>\n",
       "    <tr>\n",
       "      <th>4</th>\n",
       "      <td>1</td>\n",
       "      <td>67946</td>\n",
       "      <td>477507</td>\n",
       "      <td>21482</td>\n",
       "      <td>44</td>\n",
       "      <td>49640208</td>\n",
       "      <td>76280938</td>\n",
       "      <td>[đau, tim, thắt, suy, phòng, ngực, nguy_cơ, giảm]</td>\n",
       "      <td>89274557</td>\n",
       "      <td>300</td>\n",
       "      <td>99955337</td>\n",
       "      <td>[63]</td>\n",
       "      <td>94605910</td>\n",
       "      <td>65086549</td>\n",
       "      <td>49640208</td>\n",
       "      <td>300</td>\n",
       "      <td>30285947</td>\n",
       "      <td></td>\n",
       "    </tr>\n",
       "  </tbody>\n",
       "</table>\n",
       "</div>"
      ],
      "text/plain": [
       "   date  bannerid  zoneid  campaignid  ctr  zone_name_ssp   banname  \\\n",
       "0     1     67946  476740       21482   43        9589435  76280938   \n",
       "1     1     67946  477394       21482   79       53959596  76280938   \n",
       "2     1     67946  477468       21482   34       26889411  76280938   \n",
       "3     1     67946  477498       21482   87       75832232  76280938   \n",
       "4     1     67946  477507       21482   44       49640208  76280938   \n",
       "\n",
       "                                         bandesc_adx       url  ban_width  \\\n",
       "0  [đau, tim, thắt, suy, phòng, ngực, nguy_cơ, giảm]  89274557        300   \n",
       "1  [đau, tim, thắt, suy, phòng, ngực, nguy_cơ, giảm]  89274557        300   \n",
       "2  [đau, tim, thắt, suy, phòng, ngực, nguy_cơ, giảm]  89274557        300   \n",
       "3  [đau, tim, thắt, suy, phòng, ngực, nguy_cơ, giảm]  89274557        300   \n",
       "4  [đau, tim, thắt, suy, phòng, ngực, nguy_cơ, giảm]  89274557        300   \n",
       "\n",
       "   ban_height pcat_id  label_name  label_branch  zone_name_adx  zone_width  \\\n",
       "0    99955337    [63]    94605910      65086549        9589435         300   \n",
       "1    99955337    [63]    94605910      65086549       53959596         300   \n",
       "2    99955337    [63]    94605910      65086549       26889411         300   \n",
       "3    99955337    [63]    94605910      65086549       75832232         300   \n",
       "4    99955337    [63]    94605910      65086549       49640208         300   \n",
       "\n",
       "   zone_height ssp_zoneid  \n",
       "0     30285947             \n",
       "1     30285947             \n",
       "2     30285947             \n",
       "3     30285947             \n",
       "4     30285947             "
      ]
     },
     "execution_count": 69,
     "metadata": {},
     "output_type": "execute_result"
    }
   ],
   "source": [
    "dem_df=pd.DataFrame(dem)\n",
    "dem_df.columns=['date', 'bannerid', 'zoneid', 'campaignid', 'ctr', 'zone_name_ssp', 'banname', 'bandesc_adx', 'url', \n",
    "'ban_width', 'ban_height', 'pcat_id', 'label_name', 'label_branch', 'zone_name_adx', 'zone_width', 'zone_height','ssp_zoneid']\n",
    "dem_df.head()"
   ]
  },
  {
   "cell_type": "code",
   "execution_count": 71,
   "metadata": {},
   "outputs": [],
   "source": [
    "l=list(dem_df[\"pcat_id\"])\n",
    "m=list(dem_df[\"bandesc_adx\"])"
   ]
  },
  {
   "cell_type": "code",
   "execution_count": 74,
   "metadata": {},
   "outputs": [],
   "source": [
    "#tạo tập hợp nhóm content banner theo pcat id\n",
    "t={}\n",
    "for i in range(len(l)):\n",
    "    for j in range(len(l[i])):\n",
    "        if l[i][j] not in t.keys():\n",
    "            t[l[i][j]]=[m[i]]\n",
    "        else:\n",
    "            t[l[i][j]]=t[l[i][j]]+[m[i]]"
   ]
  },
  {
   "cell_type": "code",
   "execution_count": 75,
   "metadata": {},
   "outputs": [
    {
     "name": "stdout",
     "output_type": "stream",
     "text": [
      "63\n",
      "10\n",
      "64\n",
      "\n",
      "2\n",
      "37\n",
      "9\n",
      "44\n",
      "41\n",
      "11\n",
      "13\n",
      "12\n",
      "86\n",
      "7\n",
      "72\n",
      "38\n",
      "150\n",
      "85\n"
     ]
    }
   ],
   "source": [
    "a=[]\n",
    "for key in t.keys():\n",
    "    a.append(key)"
   ]
  },
  {
   "cell_type": "code",
   "execution_count": 76,
   "metadata": {},
   "outputs": [],
   "source": [
    "for i in a:\n",
    "    t[i]=list(set([i for sublist in t[i] for i in sublist]))"
   ]
  },
  {
   "cell_type": "code",
   "execution_count": 80,
   "metadata": {},
   "outputs": [
    {
     "data": {
      "text/plain": [
       "493160"
      ]
     },
     "execution_count": 80,
     "metadata": {},
     "output_type": "execute_result"
    }
   ],
   "source": [
    "rule=[]\n",
    "for i in range(len(l)):\n",
    "    if len(l[i])==1:\n",
    "               k= int(10000*(len(m[i])/len(t[l[i][0]])))\n",
    "               rule.append(k)\n",
    "    else:\n",
    "               k1= len(m[i])/len(t[l[i][0]])\n",
    "               k2=len(m[i])/len(t[l[i][1]])\n",
    "               k=int(((k1+k2)/2)*10000)\n",
    "               rule.append(k)\n",
    "len(rule)"
   ]
  },
  {
   "cell_type": "code",
   "execution_count": 83,
   "metadata": {},
   "outputs": [],
   "source": [
    "dem_df['bandesc_adx']=pd.DataFrame(rule)"
   ]
  },
  {
   "cell_type": "code",
   "execution_count": 97,
   "metadata": {},
   "outputs": [],
   "source": [
    "a=list(dem_df['pcat_id'])"
   ]
  },
  {
   "cell_type": "code",
   "execution_count": 98,
   "metadata": {},
   "outputs": [
    {
     "data": {
      "text/plain": [
       "493160"
      ]
     },
     "execution_count": 98,
     "metadata": {},
     "output_type": "execute_result"
    }
   ],
   "source": [
    "ha=[]\n",
    "for i in a:\n",
    "    h=int(hashlib.sha256(str(i).encode('utf-8')).hexdigest(), 16) % 10**8\n",
    "    ha.append(h)\n",
    "len(ha)"
   ]
  },
  {
   "cell_type": "code",
   "execution_count": 102,
   "metadata": {},
   "outputs": [],
   "source": [
    "dem_df['pcat_id']=pd.DataFrame(ha)"
   ]
  },
  {
   "cell_type": "code",
   "execution_count": 103,
   "metadata": {},
   "outputs": [],
   "source": [
    "train=dem_df[:420000]\n",
    "test=dem_df[420000:]"
   ]
  },
  {
   "cell_type": "code",
   "execution_count": 104,
   "metadata": {},
   "outputs": [],
   "source": [
    "import pandas as pd\n",
    "train_df= pd.DataFrame(train)\n",
    "test_df= pd.DataFrame(test)"
   ]
  },
  {
   "cell_type": "code",
   "execution_count": 105,
   "metadata": {},
   "outputs": [
    {
     "data": {
      "text/html": [
       "<div>\n",
       "<style scoped>\n",
       "    .dataframe tbody tr th:only-of-type {\n",
       "        vertical-align: middle;\n",
       "    }\n",
       "\n",
       "    .dataframe tbody tr th {\n",
       "        vertical-align: top;\n",
       "    }\n",
       "\n",
       "    .dataframe thead th {\n",
       "        text-align: right;\n",
       "    }\n",
       "</style>\n",
       "<table border=\"1\" class=\"dataframe\">\n",
       "  <thead>\n",
       "    <tr style=\"text-align: right;\">\n",
       "      <th></th>\n",
       "      <th>date</th>\n",
       "      <th>bannerid</th>\n",
       "      <th>zoneid</th>\n",
       "      <th>campaignid</th>\n",
       "      <th>ctr</th>\n",
       "      <th>zone_name_ssp</th>\n",
       "      <th>banname</th>\n",
       "      <th>bandesc_adx</th>\n",
       "      <th>url</th>\n",
       "      <th>ban_width</th>\n",
       "      <th>ban_height</th>\n",
       "      <th>pcat_id</th>\n",
       "      <th>label_name</th>\n",
       "      <th>label_branch</th>\n",
       "      <th>zone_name_adx</th>\n",
       "      <th>zone_width</th>\n",
       "      <th>zone_height</th>\n",
       "      <th>ssp_zoneid</th>\n",
       "    </tr>\n",
       "  </thead>\n",
       "  <tbody>\n",
       "    <tr>\n",
       "      <th>0</th>\n",
       "      <td>1</td>\n",
       "      <td>67946</td>\n",
       "      <td>476740</td>\n",
       "      <td>21482</td>\n",
       "      <td>43</td>\n",
       "      <td>9589435</td>\n",
       "      <td>76280938</td>\n",
       "      <td>40</td>\n",
       "      <td>89274557</td>\n",
       "      <td>300</td>\n",
       "      <td>99955337</td>\n",
       "      <td>6440508</td>\n",
       "      <td>94605910</td>\n",
       "      <td>65086549</td>\n",
       "      <td>9589435</td>\n",
       "      <td>300</td>\n",
       "      <td>30285947</td>\n",
       "      <td></td>\n",
       "    </tr>\n",
       "    <tr>\n",
       "      <th>1</th>\n",
       "      <td>1</td>\n",
       "      <td>67946</td>\n",
       "      <td>477394</td>\n",
       "      <td>21482</td>\n",
       "      <td>79</td>\n",
       "      <td>53959596</td>\n",
       "      <td>76280938</td>\n",
       "      <td>40</td>\n",
       "      <td>89274557</td>\n",
       "      <td>300</td>\n",
       "      <td>99955337</td>\n",
       "      <td>6440508</td>\n",
       "      <td>94605910</td>\n",
       "      <td>65086549</td>\n",
       "      <td>53959596</td>\n",
       "      <td>300</td>\n",
       "      <td>30285947</td>\n",
       "      <td></td>\n",
       "    </tr>\n",
       "    <tr>\n",
       "      <th>2</th>\n",
       "      <td>1</td>\n",
       "      <td>67946</td>\n",
       "      <td>477468</td>\n",
       "      <td>21482</td>\n",
       "      <td>34</td>\n",
       "      <td>26889411</td>\n",
       "      <td>76280938</td>\n",
       "      <td>40</td>\n",
       "      <td>89274557</td>\n",
       "      <td>300</td>\n",
       "      <td>99955337</td>\n",
       "      <td>6440508</td>\n",
       "      <td>94605910</td>\n",
       "      <td>65086549</td>\n",
       "      <td>26889411</td>\n",
       "      <td>300</td>\n",
       "      <td>30285947</td>\n",
       "      <td></td>\n",
       "    </tr>\n",
       "    <tr>\n",
       "      <th>3</th>\n",
       "      <td>1</td>\n",
       "      <td>67946</td>\n",
       "      <td>477498</td>\n",
       "      <td>21482</td>\n",
       "      <td>87</td>\n",
       "      <td>75832232</td>\n",
       "      <td>76280938</td>\n",
       "      <td>40</td>\n",
       "      <td>89274557</td>\n",
       "      <td>300</td>\n",
       "      <td>99955337</td>\n",
       "      <td>6440508</td>\n",
       "      <td>94605910</td>\n",
       "      <td>65086549</td>\n",
       "      <td>75832232</td>\n",
       "      <td>300</td>\n",
       "      <td>30285947</td>\n",
       "      <td></td>\n",
       "    </tr>\n",
       "    <tr>\n",
       "      <th>4</th>\n",
       "      <td>1</td>\n",
       "      <td>67946</td>\n",
       "      <td>477507</td>\n",
       "      <td>21482</td>\n",
       "      <td>44</td>\n",
       "      <td>49640208</td>\n",
       "      <td>76280938</td>\n",
       "      <td>40</td>\n",
       "      <td>89274557</td>\n",
       "      <td>300</td>\n",
       "      <td>99955337</td>\n",
       "      <td>6440508</td>\n",
       "      <td>94605910</td>\n",
       "      <td>65086549</td>\n",
       "      <td>49640208</td>\n",
       "      <td>300</td>\n",
       "      <td>30285947</td>\n",
       "      <td></td>\n",
       "    </tr>\n",
       "  </tbody>\n",
       "</table>\n",
       "</div>"
      ],
      "text/plain": [
       "   date  bannerid  zoneid  campaignid  ctr  zone_name_ssp   banname  \\\n",
       "0     1     67946  476740       21482   43        9589435  76280938   \n",
       "1     1     67946  477394       21482   79       53959596  76280938   \n",
       "2     1     67946  477468       21482   34       26889411  76280938   \n",
       "3     1     67946  477498       21482   87       75832232  76280938   \n",
       "4     1     67946  477507       21482   44       49640208  76280938   \n",
       "\n",
       "   bandesc_adx       url  ban_width  ban_height  pcat_id  label_name  \\\n",
       "0           40  89274557        300    99955337  6440508    94605910   \n",
       "1           40  89274557        300    99955337  6440508    94605910   \n",
       "2           40  89274557        300    99955337  6440508    94605910   \n",
       "3           40  89274557        300    99955337  6440508    94605910   \n",
       "4           40  89274557        300    99955337  6440508    94605910   \n",
       "\n",
       "   label_branch  zone_name_adx  zone_width  zone_height ssp_zoneid  \n",
       "0      65086549        9589435         300     30285947             \n",
       "1      65086549       53959596         300     30285947             \n",
       "2      65086549       26889411         300     30285947             \n",
       "3      65086549       75832232         300     30285947             \n",
       "4      65086549       49640208         300     30285947             "
      ]
     },
     "execution_count": 105,
     "metadata": {},
     "output_type": "execute_result"
    }
   ],
   "source": [
    "train_df.head()"
   ]
  },
  {
   "cell_type": "code",
   "execution_count": 106,
   "metadata": {},
   "outputs": [],
   "source": [
    "train_df.columns=['date', 'bannerid', 'zoneid', 'campaignid', 'ctr', 'zone_name_ssp', 'banname', 'bandesc_adx', 'url', \n",
    "'ban_width', 'ban_height', 'pcat_id', 'label_name', 'label_branch', 'zone_name_adx', 'zone_width', 'zone_height','ssp_zoneid']\n",
    "test_df.columns=['date', 'bannerid', 'zoneid', 'campaignid', 'ctr', 'zone_name_ssp', 'banname', 'bandesc_adx', 'url', \n",
    "'ban_width', 'ban_height', 'pcat_id', 'label_name', 'label_branch', 'zone_name_adx', 'zone_width', 'zone_height','ssp_zoneid']"
   ]
  },
  {
   "cell_type": "code",
   "execution_count": 107,
   "metadata": {},
   "outputs": [
    {
     "data": {
      "text/plain": [
       "((420000, 4), (420000,), (73160, 4), (73160,))"
      ]
     },
     "execution_count": 107,
     "metadata": {},
     "output_type": "execute_result"
    }
   ],
   "source": [
    "Y_train=train_df[\"ctr\"]\n",
    "X_train=train_df.drop([\"ban_height\",\"zone_width\",\"url\",\"banname\",\"campaignid\",\"ctr\",\"bannerid\",\"zoneid\",\"ban_width\",\"zone_height\",\"label_name\",\"label_branch\",\"zone_name_adx\",'ssp_zoneid'], axis=1)\n",
    "Y_test=test_df[\"ctr\"]\n",
    "X_test=test_df.drop([\"ban_height\",\"zone_width\",\"url\",\"banname\",\"campaignid\",\"ctr\",\"bannerid\",\"zoneid\",\"ban_width\",\"zone_height\",\"label_name\",\"label_branch\",\"zone_name_adx\",'ssp_zoneid'], axis=1)\n",
    "X_train.shape, Y_train.shape, X_test.shape, Y_test.shape"
   ]
  },
  {
   "cell_type": "code",
   "execution_count": 108,
   "metadata": {},
   "outputs": [
    {
     "data": {
      "text/html": [
       "<div>\n",
       "<style scoped>\n",
       "    .dataframe tbody tr th:only-of-type {\n",
       "        vertical-align: middle;\n",
       "    }\n",
       "\n",
       "    .dataframe tbody tr th {\n",
       "        vertical-align: top;\n",
       "    }\n",
       "\n",
       "    .dataframe thead th {\n",
       "        text-align: right;\n",
       "    }\n",
       "</style>\n",
       "<table border=\"1\" class=\"dataframe\">\n",
       "  <thead>\n",
       "    <tr style=\"text-align: right;\">\n",
       "      <th></th>\n",
       "      <th>date</th>\n",
       "      <th>zone_name_ssp</th>\n",
       "      <th>bandesc_adx</th>\n",
       "      <th>pcat_id</th>\n",
       "    </tr>\n",
       "  </thead>\n",
       "  <tbody>\n",
       "    <tr>\n",
       "      <th>0</th>\n",
       "      <td>1</td>\n",
       "      <td>9589435</td>\n",
       "      <td>40</td>\n",
       "      <td>6440508</td>\n",
       "    </tr>\n",
       "    <tr>\n",
       "      <th>1</th>\n",
       "      <td>1</td>\n",
       "      <td>53959596</td>\n",
       "      <td>40</td>\n",
       "      <td>6440508</td>\n",
       "    </tr>\n",
       "    <tr>\n",
       "      <th>2</th>\n",
       "      <td>1</td>\n",
       "      <td>26889411</td>\n",
       "      <td>40</td>\n",
       "      <td>6440508</td>\n",
       "    </tr>\n",
       "    <tr>\n",
       "      <th>3</th>\n",
       "      <td>1</td>\n",
       "      <td>75832232</td>\n",
       "      <td>40</td>\n",
       "      <td>6440508</td>\n",
       "    </tr>\n",
       "    <tr>\n",
       "      <th>4</th>\n",
       "      <td>1</td>\n",
       "      <td>49640208</td>\n",
       "      <td>40</td>\n",
       "      <td>6440508</td>\n",
       "    </tr>\n",
       "  </tbody>\n",
       "</table>\n",
       "</div>"
      ],
      "text/plain": [
       "   date  zone_name_ssp  bandesc_adx  pcat_id\n",
       "0     1        9589435           40  6440508\n",
       "1     1       53959596           40  6440508\n",
       "2     1       26889411           40  6440508\n",
       "3     1       75832232           40  6440508\n",
       "4     1       49640208           40  6440508"
      ]
     },
     "execution_count": 108,
     "metadata": {},
     "output_type": "execute_result"
    }
   ],
   "source": [
    "X_train.head()"
   ]
  },
  {
   "cell_type": "code",
   "execution_count": 109,
   "metadata": {},
   "outputs": [],
   "source": [
    "from sklearn.datasets import load_iris\n",
    "from sklearn.linear_model import LogisticRegression\n",
    "clf = LogisticRegression(random_state=0, solver='lbfgs',multi_class='multinomial').fit(X_train, Y_train)\n",
    "Y_pred =clf.predict(X_test)"
   ]
  },
  {
   "cell_type": "code",
   "execution_count": 111,
   "metadata": {},
   "outputs": [],
   "source": [
    "Y_pred=list(Y_pred)"
   ]
  },
  {
   "cell_type": "code",
   "execution_count": 112,
   "metadata": {},
   "outputs": [],
   "source": [
    "Y_test=list(Y_test)"
   ]
  },
  {
   "cell_type": "code",
   "execution_count": 113,
   "metadata": {},
   "outputs": [
    {
     "data": {
      "text/plain": [
       "1.0725445043910815"
      ]
     },
     "execution_count": 113,
     "metadata": {},
     "output_type": "execute_result"
    }
   ],
   "source": [
    "sum=0\n",
    "k=0\n",
    "for i in range(len(Y_test)):\n",
    "    if Y_test[i] != 0:\n",
    "        sum= sum + abs((Y_test[i]- Y_pred[i])/Y_test[i])\n",
    "        k=k+1\n",
    "rmse=sum/k\n",
    "rmse"
   ]
  },
  {
   "cell_type": "code",
   "execution_count": null,
   "metadata": {},
   "outputs": [],
   "source": []
  }
 ],
 "metadata": {
  "kernelspec": {
   "display_name": "Python 3",
   "language": "python",
   "name": "python3"
  },
  "language_info": {
   "codemirror_mode": {
    "name": "ipython",
    "version": 3
   },
   "file_extension": ".py",
   "mimetype": "text/x-python",
   "name": "python",
   "nbconvert_exporter": "python",
   "pygments_lexer": "ipython3",
   "version": "3.6.5"
  }
 },
 "nbformat": 4,
 "nbformat_minor": 2
}
